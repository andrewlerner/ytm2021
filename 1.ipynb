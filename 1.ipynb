{
    "cells": [
        {
            "cell_type": "markdown",
            "source": [
                "Умпортируем библиотеку, прочитаем файл, выведем результат."
            ],
            "metadata": {}
        },
        {
            "cell_type": "code",
            "execution_count": 50,
            "source": [
                "import pandas as pd\r\n",
                "data = pd.read_csv('1.txt', delimiter = '\\t')\r\n",
                "data.head(5)"
            ],
            "outputs": [
                {
                    "output_type": "execute_result",
                    "data": {
                        "text/plain": [
                            "    login          tid  Microtasks          assigned_ts            closed_ts\n",
                            "0  login0  190563850.0         4.0  2017-04-20 12:09:39  2017-04-20 13:13:01\n",
                            "1  login0  190561754.0         1.0  2017-04-20 12:10:30  2017-04-20 12:28:29\n",
                            "2  login0  190565906.0         4.0  2017-04-20 12:21:31  2017-04-20 13:30:10\n",
                            "3  login0  190560246.0         1.0  2017-04-20 12:28:30  2017-04-20 13:13:56\n",
                            "4  login0  190562168.0         2.0  2017-04-20 12:28:42  2017-04-20 13:14:50"
                        ],
                        "text/html": [
                            "<div>\n",
                            "<style scoped>\n",
                            "    .dataframe tbody tr th:only-of-type {\n",
                            "        vertical-align: middle;\n",
                            "    }\n",
                            "\n",
                            "    .dataframe tbody tr th {\n",
                            "        vertical-align: top;\n",
                            "    }\n",
                            "\n",
                            "    .dataframe thead th {\n",
                            "        text-align: right;\n",
                            "    }\n",
                            "</style>\n",
                            "<table border=\"1\" class=\"dataframe\">\n",
                            "  <thead>\n",
                            "    <tr style=\"text-align: right;\">\n",
                            "      <th></th>\n",
                            "      <th>login</th>\n",
                            "      <th>tid</th>\n",
                            "      <th>Microtasks</th>\n",
                            "      <th>assigned_ts</th>\n",
                            "      <th>closed_ts</th>\n",
                            "    </tr>\n",
                            "  </thead>\n",
                            "  <tbody>\n",
                            "    <tr>\n",
                            "      <th>0</th>\n",
                            "      <td>login0</td>\n",
                            "      <td>190563850.0</td>\n",
                            "      <td>4.0</td>\n",
                            "      <td>2017-04-20 12:09:39</td>\n",
                            "      <td>2017-04-20 13:13:01</td>\n",
                            "    </tr>\n",
                            "    <tr>\n",
                            "      <th>1</th>\n",
                            "      <td>login0</td>\n",
                            "      <td>190561754.0</td>\n",
                            "      <td>1.0</td>\n",
                            "      <td>2017-04-20 12:10:30</td>\n",
                            "      <td>2017-04-20 12:28:29</td>\n",
                            "    </tr>\n",
                            "    <tr>\n",
                            "      <th>2</th>\n",
                            "      <td>login0</td>\n",
                            "      <td>190565906.0</td>\n",
                            "      <td>4.0</td>\n",
                            "      <td>2017-04-20 12:21:31</td>\n",
                            "      <td>2017-04-20 13:30:10</td>\n",
                            "    </tr>\n",
                            "    <tr>\n",
                            "      <th>3</th>\n",
                            "      <td>login0</td>\n",
                            "      <td>190560246.0</td>\n",
                            "      <td>1.0</td>\n",
                            "      <td>2017-04-20 12:28:30</td>\n",
                            "      <td>2017-04-20 13:13:56</td>\n",
                            "    </tr>\n",
                            "    <tr>\n",
                            "      <th>4</th>\n",
                            "      <td>login0</td>\n",
                            "      <td>190562168.0</td>\n",
                            "      <td>2.0</td>\n",
                            "      <td>2017-04-20 12:28:42</td>\n",
                            "      <td>2017-04-20 13:14:50</td>\n",
                            "    </tr>\n",
                            "  </tbody>\n",
                            "</table>\n",
                            "</div>"
                        ]
                    },
                    "metadata": {},
                    "execution_count": 50
                }
            ],
            "metadata": {}
        },
        {
            "cell_type": "markdown",
            "source": [
                "Выведем информацию о данных, хранимых в таблице."
            ],
            "metadata": {}
        },
        {
            "cell_type": "code",
            "execution_count": 51,
            "source": [
                "data.info()"
            ],
            "outputs": [
                {
                    "output_type": "stream",
                    "name": "stdout",
                    "text": [
                        "<class 'pandas.core.frame.DataFrame'>\n",
                        "RangeIndex: 701827 entries, 0 to 701826\n",
                        "Data columns (total 5 columns):\n",
                        " #   Column       Non-Null Count   Dtype  \n",
                        "---  ------       --------------   -----  \n",
                        " 0   login        701827 non-null  object \n",
                        " 1   tid          701827 non-null  float64\n",
                        " 2   Microtasks   701827 non-null  float64\n",
                        " 3   assigned_ts  701827 non-null  object \n",
                        " 4   closed_ts    701827 non-null  object \n",
                        "dtypes: float64(2), object(3)\n",
                        "memory usage: 26.8+ MB\n"
                    ]
                }
            ],
            "metadata": {}
        },
        {
            "cell_type": "markdown",
            "source": [
                "Выведем количество уникальных асессоров."
            ],
            "metadata": {}
        },
        {
            "cell_type": "code",
            "execution_count": 52,
            "source": [
                "data['login'].value_counts()"
            ],
            "outputs": [
                {
                    "output_type": "execute_result",
                    "data": {
                        "text/plain": [
                            "login7      13721\n",
                            "login224    11462\n",
                            "login73     11377\n",
                            "login139     9615\n",
                            "login652     8144\n",
                            "            ...  \n",
                            "login72         1\n",
                            "login25         1\n",
                            "login130        1\n",
                            "login752        1\n",
                            "login282        1\n",
                            "Name: login, Length: 767, dtype: int64"
                        ]
                    },
                    "metadata": {},
                    "execution_count": 52
                }
            ],
            "metadata": {}
        },
        {
            "cell_type": "markdown",
            "source": [
                "Рассчитаем время работы над заданием, добавим получивщиеся значения в таблицу, удалим повторяющиеся строки."
            ],
            "metadata": {}
        },
        {
            "cell_type": "code",
            "execution_count": 53,
            "source": [
                "import datetime\r\n",
                "\r\n",
                "end = pd.to_datetime(data['closed_ts'])\r\n",
                "start = pd.to_datetime(data['assigned_ts'])\r\n",
                "work_time = pd.Series(pd.to_timedelta(end - start))\r\n",
                "work_time = work_time.dt.total_seconds().to_frame()\r\n",
                "data['work_time'] = work_time\r\n",
                "data = data.drop_duplicates()\r\n",
                "data.head(5)"
            ],
            "outputs": [
                {
                    "output_type": "execute_result",
                    "data": {
                        "text/plain": [
                            "    login          tid  Microtasks          assigned_ts            closed_ts  \\\n",
                            "0  login0  190563850.0         4.0  2017-04-20 12:09:39  2017-04-20 13:13:01   \n",
                            "1  login0  190561754.0         1.0  2017-04-20 12:10:30  2017-04-20 12:28:29   \n",
                            "2  login0  190565906.0         4.0  2017-04-20 12:21:31  2017-04-20 13:30:10   \n",
                            "3  login0  190560246.0         1.0  2017-04-20 12:28:30  2017-04-20 13:13:56   \n",
                            "4  login0  190562168.0         2.0  2017-04-20 12:28:42  2017-04-20 13:14:50   \n",
                            "\n",
                            "   work_time  \n",
                            "0     3802.0  \n",
                            "1     1079.0  \n",
                            "2     4119.0  \n",
                            "3     2726.0  \n",
                            "4     2768.0  "
                        ],
                        "text/html": [
                            "<div>\n",
                            "<style scoped>\n",
                            "    .dataframe tbody tr th:only-of-type {\n",
                            "        vertical-align: middle;\n",
                            "    }\n",
                            "\n",
                            "    .dataframe tbody tr th {\n",
                            "        vertical-align: top;\n",
                            "    }\n",
                            "\n",
                            "    .dataframe thead th {\n",
                            "        text-align: right;\n",
                            "    }\n",
                            "</style>\n",
                            "<table border=\"1\" class=\"dataframe\">\n",
                            "  <thead>\n",
                            "    <tr style=\"text-align: right;\">\n",
                            "      <th></th>\n",
                            "      <th>login</th>\n",
                            "      <th>tid</th>\n",
                            "      <th>Microtasks</th>\n",
                            "      <th>assigned_ts</th>\n",
                            "      <th>closed_ts</th>\n",
                            "      <th>work_time</th>\n",
                            "    </tr>\n",
                            "  </thead>\n",
                            "  <tbody>\n",
                            "    <tr>\n",
                            "      <th>0</th>\n",
                            "      <td>login0</td>\n",
                            "      <td>190563850.0</td>\n",
                            "      <td>4.0</td>\n",
                            "      <td>2017-04-20 12:09:39</td>\n",
                            "      <td>2017-04-20 13:13:01</td>\n",
                            "      <td>3802.0</td>\n",
                            "    </tr>\n",
                            "    <tr>\n",
                            "      <th>1</th>\n",
                            "      <td>login0</td>\n",
                            "      <td>190561754.0</td>\n",
                            "      <td>1.0</td>\n",
                            "      <td>2017-04-20 12:10:30</td>\n",
                            "      <td>2017-04-20 12:28:29</td>\n",
                            "      <td>1079.0</td>\n",
                            "    </tr>\n",
                            "    <tr>\n",
                            "      <th>2</th>\n",
                            "      <td>login0</td>\n",
                            "      <td>190565906.0</td>\n",
                            "      <td>4.0</td>\n",
                            "      <td>2017-04-20 12:21:31</td>\n",
                            "      <td>2017-04-20 13:30:10</td>\n",
                            "      <td>4119.0</td>\n",
                            "    </tr>\n",
                            "    <tr>\n",
                            "      <th>3</th>\n",
                            "      <td>login0</td>\n",
                            "      <td>190560246.0</td>\n",
                            "      <td>1.0</td>\n",
                            "      <td>2017-04-20 12:28:30</td>\n",
                            "      <td>2017-04-20 13:13:56</td>\n",
                            "      <td>2726.0</td>\n",
                            "    </tr>\n",
                            "    <tr>\n",
                            "      <th>4</th>\n",
                            "      <td>login0</td>\n",
                            "      <td>190562168.0</td>\n",
                            "      <td>2.0</td>\n",
                            "      <td>2017-04-20 12:28:42</td>\n",
                            "      <td>2017-04-20 13:14:50</td>\n",
                            "      <td>2768.0</td>\n",
                            "    </tr>\n",
                            "  </tbody>\n",
                            "</table>\n",
                            "</div>"
                        ]
                    },
                    "metadata": {},
                    "execution_count": 53
                }
            ],
            "metadata": {}
        },
        {
            "cell_type": "markdown",
            "source": [
                "Проверим время работы на отрицательные значения"
            ],
            "metadata": {}
        },
        {
            "cell_type": "code",
            "execution_count": 54,
            "source": [
                "data[data['work_time'] < 0]"
            ],
            "outputs": [
                {
                    "output_type": "execute_result",
                    "data": {
                        "text/plain": [
                            "           login          tid  Microtasks          assigned_ts  \\\n",
                            "534453  login585  197340894.0         1.0  2017-05-24 16:13:06   \n",
                            "\n",
                            "                  closed_ts  work_time  \n",
                            "534453  2017-05-24 16:00:57     -729.0  "
                        ],
                        "text/html": [
                            "<div>\n",
                            "<style scoped>\n",
                            "    .dataframe tbody tr th:only-of-type {\n",
                            "        vertical-align: middle;\n",
                            "    }\n",
                            "\n",
                            "    .dataframe tbody tr th {\n",
                            "        vertical-align: top;\n",
                            "    }\n",
                            "\n",
                            "    .dataframe thead th {\n",
                            "        text-align: right;\n",
                            "    }\n",
                            "</style>\n",
                            "<table border=\"1\" class=\"dataframe\">\n",
                            "  <thead>\n",
                            "    <tr style=\"text-align: right;\">\n",
                            "      <th></th>\n",
                            "      <th>login</th>\n",
                            "      <th>tid</th>\n",
                            "      <th>Microtasks</th>\n",
                            "      <th>assigned_ts</th>\n",
                            "      <th>closed_ts</th>\n",
                            "      <th>work_time</th>\n",
                            "    </tr>\n",
                            "  </thead>\n",
                            "  <tbody>\n",
                            "    <tr>\n",
                            "      <th>534453</th>\n",
                            "      <td>login585</td>\n",
                            "      <td>197340894.0</td>\n",
                            "      <td>1.0</td>\n",
                            "      <td>2017-05-24 16:13:06</td>\n",
                            "      <td>2017-05-24 16:00:57</td>\n",
                            "      <td>-729.0</td>\n",
                            "    </tr>\n",
                            "  </tbody>\n",
                            "</table>\n",
                            "</div>"
                        ]
                    },
                    "metadata": {},
                    "execution_count": 54
                }
            ],
            "metadata": {}
        },
        {
            "cell_type": "markdown",
            "source": [
                "Удалим записи со временем работы меньше нуля."
            ],
            "metadata": {}
        },
        {
            "cell_type": "code",
            "execution_count": 55,
            "source": [
                "data = data.drop(data[data['work_time'] < 0].index)\r\n",
                "data.head(5)"
            ],
            "outputs": [
                {
                    "output_type": "execute_result",
                    "data": {
                        "text/plain": [
                            "    login          tid  Microtasks          assigned_ts            closed_ts  \\\n",
                            "0  login0  190563850.0         4.0  2017-04-20 12:09:39  2017-04-20 13:13:01   \n",
                            "1  login0  190561754.0         1.0  2017-04-20 12:10:30  2017-04-20 12:28:29   \n",
                            "2  login0  190565906.0         4.0  2017-04-20 12:21:31  2017-04-20 13:30:10   \n",
                            "3  login0  190560246.0         1.0  2017-04-20 12:28:30  2017-04-20 13:13:56   \n",
                            "4  login0  190562168.0         2.0  2017-04-20 12:28:42  2017-04-20 13:14:50   \n",
                            "\n",
                            "   work_time  \n",
                            "0     3802.0  \n",
                            "1     1079.0  \n",
                            "2     4119.0  \n",
                            "3     2726.0  \n",
                            "4     2768.0  "
                        ],
                        "text/html": [
                            "<div>\n",
                            "<style scoped>\n",
                            "    .dataframe tbody tr th:only-of-type {\n",
                            "        vertical-align: middle;\n",
                            "    }\n",
                            "\n",
                            "    .dataframe tbody tr th {\n",
                            "        vertical-align: top;\n",
                            "    }\n",
                            "\n",
                            "    .dataframe thead th {\n",
                            "        text-align: right;\n",
                            "    }\n",
                            "</style>\n",
                            "<table border=\"1\" class=\"dataframe\">\n",
                            "  <thead>\n",
                            "    <tr style=\"text-align: right;\">\n",
                            "      <th></th>\n",
                            "      <th>login</th>\n",
                            "      <th>tid</th>\n",
                            "      <th>Microtasks</th>\n",
                            "      <th>assigned_ts</th>\n",
                            "      <th>closed_ts</th>\n",
                            "      <th>work_time</th>\n",
                            "    </tr>\n",
                            "  </thead>\n",
                            "  <tbody>\n",
                            "    <tr>\n",
                            "      <th>0</th>\n",
                            "      <td>login0</td>\n",
                            "      <td>190563850.0</td>\n",
                            "      <td>4.0</td>\n",
                            "      <td>2017-04-20 12:09:39</td>\n",
                            "      <td>2017-04-20 13:13:01</td>\n",
                            "      <td>3802.0</td>\n",
                            "    </tr>\n",
                            "    <tr>\n",
                            "      <th>1</th>\n",
                            "      <td>login0</td>\n",
                            "      <td>190561754.0</td>\n",
                            "      <td>1.0</td>\n",
                            "      <td>2017-04-20 12:10:30</td>\n",
                            "      <td>2017-04-20 12:28:29</td>\n",
                            "      <td>1079.0</td>\n",
                            "    </tr>\n",
                            "    <tr>\n",
                            "      <th>2</th>\n",
                            "      <td>login0</td>\n",
                            "      <td>190565906.0</td>\n",
                            "      <td>4.0</td>\n",
                            "      <td>2017-04-20 12:21:31</td>\n",
                            "      <td>2017-04-20 13:30:10</td>\n",
                            "      <td>4119.0</td>\n",
                            "    </tr>\n",
                            "    <tr>\n",
                            "      <th>3</th>\n",
                            "      <td>login0</td>\n",
                            "      <td>190560246.0</td>\n",
                            "      <td>1.0</td>\n",
                            "      <td>2017-04-20 12:28:30</td>\n",
                            "      <td>2017-04-20 13:13:56</td>\n",
                            "      <td>2726.0</td>\n",
                            "    </tr>\n",
                            "    <tr>\n",
                            "      <th>4</th>\n",
                            "      <td>login0</td>\n",
                            "      <td>190562168.0</td>\n",
                            "      <td>2.0</td>\n",
                            "      <td>2017-04-20 12:28:42</td>\n",
                            "      <td>2017-04-20 13:14:50</td>\n",
                            "      <td>2768.0</td>\n",
                            "    </tr>\n",
                            "  </tbody>\n",
                            "</table>\n",
                            "</div>"
                        ]
                    },
                    "metadata": {},
                    "execution_count": 55
                }
            ],
            "metadata": {}
        },
        {
            "cell_type": "markdown",
            "source": [
                "Посмотрим какое количество заданий, микрозаданий выполнили пользователи и сколько суммарно затратили на это времени."
            ],
            "metadata": {}
        },
        {
            "cell_type": "code",
            "execution_count": 60,
            "source": [
                "def summary(x):\r\n",
                "    result = {\r\n",
                "        'tid_count': x['tid'].count(),\r\n",
                "        'mt_sum': x['Microtasks'].sum(),\r\n",
                "        'wt_sum': x['work_time'].sum(),\r\n",
                "    }\r\n",
                "    return pd.Series(result).round(0)"
            ],
            "outputs": [],
            "metadata": {}
        },
        {
            "cell_type": "code",
            "execution_count": 61,
            "source": [
                "data.groupby(by=['login']).apply(summary).sort_values(by=['wt_sum'], ascending=False).head(5)"
            ],
            "outputs": [
                {
                    "output_type": "execute_result",
                    "data": {
                        "text/plain": [
                            "          tid_count   mt_sum      wt_sum\n",
                            "login                                   \n",
                            "login12       870.0   5774.0  22707329.0\n",
                            "login300      325.0    503.0  22618461.0\n",
                            "login54      2703.0  15469.0  22248014.0\n",
                            "login403     1330.0   6754.0  21318538.0\n",
                            "login293     1142.0   6521.0  19555048.0"
                        ],
                        "text/html": [
                            "<div>\n",
                            "<style scoped>\n",
                            "    .dataframe tbody tr th:only-of-type {\n",
                            "        vertical-align: middle;\n",
                            "    }\n",
                            "\n",
                            "    .dataframe tbody tr th {\n",
                            "        vertical-align: top;\n",
                            "    }\n",
                            "\n",
                            "    .dataframe thead th {\n",
                            "        text-align: right;\n",
                            "    }\n",
                            "</style>\n",
                            "<table border=\"1\" class=\"dataframe\">\n",
                            "  <thead>\n",
                            "    <tr style=\"text-align: right;\">\n",
                            "      <th></th>\n",
                            "      <th>tid_count</th>\n",
                            "      <th>mt_sum</th>\n",
                            "      <th>wt_sum</th>\n",
                            "    </tr>\n",
                            "    <tr>\n",
                            "      <th>login</th>\n",
                            "      <th></th>\n",
                            "      <th></th>\n",
                            "      <th></th>\n",
                            "    </tr>\n",
                            "  </thead>\n",
                            "  <tbody>\n",
                            "    <tr>\n",
                            "      <th>login12</th>\n",
                            "      <td>870.0</td>\n",
                            "      <td>5774.0</td>\n",
                            "      <td>22707329.0</td>\n",
                            "    </tr>\n",
                            "    <tr>\n",
                            "      <th>login300</th>\n",
                            "      <td>325.0</td>\n",
                            "      <td>503.0</td>\n",
                            "      <td>22618461.0</td>\n",
                            "    </tr>\n",
                            "    <tr>\n",
                            "      <th>login54</th>\n",
                            "      <td>2703.0</td>\n",
                            "      <td>15469.0</td>\n",
                            "      <td>22248014.0</td>\n",
                            "    </tr>\n",
                            "    <tr>\n",
                            "      <th>login403</th>\n",
                            "      <td>1330.0</td>\n",
                            "      <td>6754.0</td>\n",
                            "      <td>21318538.0</td>\n",
                            "    </tr>\n",
                            "    <tr>\n",
                            "      <th>login293</th>\n",
                            "      <td>1142.0</td>\n",
                            "      <td>6521.0</td>\n",
                            "      <td>19555048.0</td>\n",
                            "    </tr>\n",
                            "  </tbody>\n",
                            "</table>\n",
                            "</div>"
                        ]
                    },
                    "metadata": {},
                    "execution_count": 61
                }
            ],
            "metadata": {}
        },
        {
            "cell_type": "markdown",
            "source": [
                "Сгруппируем данные по login и tid."
            ],
            "metadata": {}
        },
        {
            "cell_type": "code",
            "execution_count": 62,
            "source": [
                "data.groupby(['login', 'tid']).agg(mt_sum = ('Microtasks', 'sum'), wt_sum = ('work_time', 'sum')).head(10)"
            ],
            "outputs": [
                {
                    "output_type": "execute_result",
                    "data": {
                        "text/plain": [
                            "                    mt_sum   wt_sum\n",
                            "login  tid                         \n",
                            "login0 160783976.0    10.0  46337.0\n",
                            "       160783978.0    10.0  47058.0\n",
                            "       162593178.0     5.0    224.0\n",
                            "       162593182.0     2.0    194.0\n",
                            "       162593198.0    10.0    119.0\n",
                            "       162593224.0     4.0   2035.0\n",
                            "       162593230.0     9.0   1389.0\n",
                            "       162593358.0     7.0    218.0\n",
                            "       162593364.0    10.0   1898.0\n",
                            "       162593366.0     9.0   1986.0"
                        ],
                        "text/html": [
                            "<div>\n",
                            "<style scoped>\n",
                            "    .dataframe tbody tr th:only-of-type {\n",
                            "        vertical-align: middle;\n",
                            "    }\n",
                            "\n",
                            "    .dataframe tbody tr th {\n",
                            "        vertical-align: top;\n",
                            "    }\n",
                            "\n",
                            "    .dataframe thead th {\n",
                            "        text-align: right;\n",
                            "    }\n",
                            "</style>\n",
                            "<table border=\"1\" class=\"dataframe\">\n",
                            "  <thead>\n",
                            "    <tr style=\"text-align: right;\">\n",
                            "      <th></th>\n",
                            "      <th></th>\n",
                            "      <th>mt_sum</th>\n",
                            "      <th>wt_sum</th>\n",
                            "    </tr>\n",
                            "    <tr>\n",
                            "      <th>login</th>\n",
                            "      <th>tid</th>\n",
                            "      <th></th>\n",
                            "      <th></th>\n",
                            "    </tr>\n",
                            "  </thead>\n",
                            "  <tbody>\n",
                            "    <tr>\n",
                            "      <th rowspan=\"10\" valign=\"top\">login0</th>\n",
                            "      <th>160783976.0</th>\n",
                            "      <td>10.0</td>\n",
                            "      <td>46337.0</td>\n",
                            "    </tr>\n",
                            "    <tr>\n",
                            "      <th>160783978.0</th>\n",
                            "      <td>10.0</td>\n",
                            "      <td>47058.0</td>\n",
                            "    </tr>\n",
                            "    <tr>\n",
                            "      <th>162593178.0</th>\n",
                            "      <td>5.0</td>\n",
                            "      <td>224.0</td>\n",
                            "    </tr>\n",
                            "    <tr>\n",
                            "      <th>162593182.0</th>\n",
                            "      <td>2.0</td>\n",
                            "      <td>194.0</td>\n",
                            "    </tr>\n",
                            "    <tr>\n",
                            "      <th>162593198.0</th>\n",
                            "      <td>10.0</td>\n",
                            "      <td>119.0</td>\n",
                            "    </tr>\n",
                            "    <tr>\n",
                            "      <th>162593224.0</th>\n",
                            "      <td>4.0</td>\n",
                            "      <td>2035.0</td>\n",
                            "    </tr>\n",
                            "    <tr>\n",
                            "      <th>162593230.0</th>\n",
                            "      <td>9.0</td>\n",
                            "      <td>1389.0</td>\n",
                            "    </tr>\n",
                            "    <tr>\n",
                            "      <th>162593358.0</th>\n",
                            "      <td>7.0</td>\n",
                            "      <td>218.0</td>\n",
                            "    </tr>\n",
                            "    <tr>\n",
                            "      <th>162593364.0</th>\n",
                            "      <td>10.0</td>\n",
                            "      <td>1898.0</td>\n",
                            "    </tr>\n",
                            "    <tr>\n",
                            "      <th>162593366.0</th>\n",
                            "      <td>9.0</td>\n",
                            "      <td>1986.0</td>\n",
                            "    </tr>\n",
                            "  </tbody>\n",
                            "</table>\n",
                            "</div>"
                        ]
                    },
                    "metadata": {},
                    "execution_count": 62
                }
            ],
            "metadata": {}
        },
        {
            "cell_type": "markdown",
            "source": [
                "Поскольку разные задания имеют разную сложность и, соответственно, время исполнения. Считаю справедливым ввести дифференцированную оплату.\r\n",
                "Для её расчёта предлагаю:\r\n",
                "1. узнать наиболее часто встречающееся время выполнения каждого задания (f_work_time).\r\n",
                "2. расчитать отклонение реально затраченного времени от наиболее часто встречающегося (∆).\r\n",
                "3. для каждого задания, в зависимости от сложности ввести коэффициент корректировки k в диапазоне (0; 1]. Чем сложнее задание, тем ближе к 1 коэффициент.\r\n",
                "\r\n",
                "Формулы для расчёта \r\n",
                "\r\n",
                "∆ =  (work_time-f_work_time)/(work_time)\r\n",
                "\r\n",
                "∆ < 0, cost = (|∆| + 1) * k * N,\r\n",
                "∆ = 0, cost = k * N,\r\n",
                "∆ > 0, cost = (1 - ∆) * k * N\r\n"
            ],
            "metadata": {}
        }
    ],
    "metadata": {
        "orig_nbformat": 4,
        "language_info": {
            "name": "python",
            "version": "3.9.5"
        },
        "kernelspec": {
            "name": "python3",
            "display_name": "Python 3.9.5 64-bit"
        },
        "interpreter": {
            "hash": "ac59ebe37160ed0dfa835113d9b8498d9f09ceb179beaac4002f036b9467c963"
        }
    },
    "nbformat": 4,
    "nbformat_minor": 2
}