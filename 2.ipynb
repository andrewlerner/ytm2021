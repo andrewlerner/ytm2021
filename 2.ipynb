{
    "cells": [
        {
            "cell_type": "markdown",
            "source": [
                "Откроем файл для чтения данных."
            ],
            "metadata": {}
        },
        {
            "cell_type": "code",
            "execution_count": 1,
            "source": [
                "import pandas as pd\r\n",
                "data = pd.read_csv('2.csv', delimiter = '\\t')\r\n",
                "data.head(5)"
            ],
            "outputs": [
                {
                    "output_type": "execute_result",
                    "data": {
                        "text/plain": [
                            "         login  uid  docid  jud  cjud\n",
                            "0  assessor158  158      0    0     0\n",
                            "1  assessor238  238      0    0     0\n",
                            "2  assessor488  488      0    0     0\n",
                            "3  assessor136  136      0    0     0\n",
                            "4  assessor300  300      0    0     0"
                        ],
                        "text/html": [
                            "<div>\n",
                            "<style scoped>\n",
                            "    .dataframe tbody tr th:only-of-type {\n",
                            "        vertical-align: middle;\n",
                            "    }\n",
                            "\n",
                            "    .dataframe tbody tr th {\n",
                            "        vertical-align: top;\n",
                            "    }\n",
                            "\n",
                            "    .dataframe thead th {\n",
                            "        text-align: right;\n",
                            "    }\n",
                            "</style>\n",
                            "<table border=\"1\" class=\"dataframe\">\n",
                            "  <thead>\n",
                            "    <tr style=\"text-align: right;\">\n",
                            "      <th></th>\n",
                            "      <th>login</th>\n",
                            "      <th>uid</th>\n",
                            "      <th>docid</th>\n",
                            "      <th>jud</th>\n",
                            "      <th>cjud</th>\n",
                            "    </tr>\n",
                            "  </thead>\n",
                            "  <tbody>\n",
                            "    <tr>\n",
                            "      <th>0</th>\n",
                            "      <td>assessor158</td>\n",
                            "      <td>158</td>\n",
                            "      <td>0</td>\n",
                            "      <td>0</td>\n",
                            "      <td>0</td>\n",
                            "    </tr>\n",
                            "    <tr>\n",
                            "      <th>1</th>\n",
                            "      <td>assessor238</td>\n",
                            "      <td>238</td>\n",
                            "      <td>0</td>\n",
                            "      <td>0</td>\n",
                            "      <td>0</td>\n",
                            "    </tr>\n",
                            "    <tr>\n",
                            "      <th>2</th>\n",
                            "      <td>assessor488</td>\n",
                            "      <td>488</td>\n",
                            "      <td>0</td>\n",
                            "      <td>0</td>\n",
                            "      <td>0</td>\n",
                            "    </tr>\n",
                            "    <tr>\n",
                            "      <th>3</th>\n",
                            "      <td>assessor136</td>\n",
                            "      <td>136</td>\n",
                            "      <td>0</td>\n",
                            "      <td>0</td>\n",
                            "      <td>0</td>\n",
                            "    </tr>\n",
                            "    <tr>\n",
                            "      <th>4</th>\n",
                            "      <td>assessor300</td>\n",
                            "      <td>300</td>\n",
                            "      <td>0</td>\n",
                            "      <td>0</td>\n",
                            "      <td>0</td>\n",
                            "    </tr>\n",
                            "  </tbody>\n",
                            "</table>\n",
                            "</div>"
                        ]
                    },
                    "metadata": {},
                    "execution_count": 1
                }
            ],
            "metadata": {}
        },
        {
            "cell_type": "markdown",
            "source": [
                "Посмотрим информацию о считанных данных."
            ],
            "metadata": {}
        },
        {
            "cell_type": "code",
            "execution_count": 15,
            "source": [
                "data.info()"
            ],
            "outputs": [
                {
                    "output_type": "stream",
                    "name": "stdout",
                    "text": [
                        "<class 'pandas.core.frame.DataFrame'>\n",
                        "RangeIndex: 250000 entries, 0 to 249999\n",
                        "Data columns (total 6 columns):\n",
                        " #   Column  Non-Null Count   Dtype \n",
                        "---  ------  --------------   ----- \n",
                        " 0   login   250000 non-null  object\n",
                        " 1   uid     250000 non-null  int64 \n",
                        " 2   docid   250000 non-null  int64 \n",
                        " 3   jud     250000 non-null  int64 \n",
                        " 4   cjud    250000 non-null  int64 \n",
                        " 5   errors  250000 non-null  int64 \n",
                        "dtypes: int64(5), object(1)\n",
                        "memory usage: 11.4+ MB\n"
                    ]
                }
            ],
            "metadata": {}
        },
        {
            "cell_type": "markdown",
            "source": [
                "Удалим дублирующиеся записи, если они есть."
            ],
            "metadata": {}
        },
        {
            "cell_type": "code",
            "execution_count": 17,
            "source": [
                "data.drop_duplicates()\r\n",
                "data.shape"
            ],
            "outputs": [
                {
                    "output_type": "execute_result",
                    "data": {
                        "text/plain": [
                            "(250000, 6)"
                        ]
                    },
                    "metadata": {},
                    "execution_count": 17
                }
            ],
            "metadata": {}
        },
        {
            "cell_type": "markdown",
            "source": [
                "Проверим наличие NaN значений в таблице."
            ],
            "metadata": {}
        },
        {
            "cell_type": "code",
            "execution_count": 18,
            "source": [
                "data.isnull().values.any()"
            ],
            "outputs": [
                {
                    "output_type": "execute_result",
                    "data": {
                        "text/plain": [
                            "False"
                        ]
                    },
                    "metadata": {},
                    "execution_count": 18
                }
            ],
            "metadata": {}
        },
        {
            "cell_type": "markdown",
            "source": [
                "Покажем количество ошибочных оценок."
            ],
            "metadata": {}
        },
        {
            "cell_type": "code",
            "execution_count": 34,
            "source": [
                "sum_error = data['jud'].compare(data['cjud'])\r\n",
                "sum_error.shape"
            ],
            "outputs": [
                {
                    "output_type": "execute_result",
                    "data": {
                        "text/plain": [
                            "(39678, 2)"
                        ]
                    },
                    "metadata": {},
                    "execution_count": 34
                }
            ],
            "metadata": {}
        },
        {
            "cell_type": "markdown",
            "source": [
                "Поскольку оценки бинарные, то для определения ошибки асессора воспользуемся следующим методом:\r\n",
                "1. Вычтем из значения столбцов jud и cjud. Если асессор выполнил задание правильно,\r\n",
                "    то ответ будет 0, если нет, то 1 или -1.\r\n",
                "2. Заменим -1 на 1."
            ],
            "metadata": {}
        },
        {
            "cell_type": "code",
            "execution_count": 35,
            "source": [
                "errors = data.jud - data.cjud\r\n",
                "data['errors'] = errors\r\n",
                "data['errors'].replace({-1: 1}, inplace=True)\r\n",
                "data"
            ],
            "outputs": [
                {
                    "output_type": "execute_result",
                    "data": {
                        "text/plain": [
                            "              login  uid  docid  jud  cjud  errors\n",
                            "0       assessor158  158      0    0     0       0\n",
                            "1       assessor238  238      0    0     0       0\n",
                            "2       assessor488  488      0    0     0       0\n",
                            "3       assessor136  136      0    0     0       0\n",
                            "4       assessor300  300      0    0     0       0\n",
                            "...             ...  ...    ...  ...   ...     ...\n",
                            "249995  assessor208  208  49999    1     1       0\n",
                            "249996  assessor139  139  49999    1     1       0\n",
                            "249997  assessor333  333  49999    1     1       0\n",
                            "249998  assessor160  160  49999    1     1       0\n",
                            "249999  assessor175  175  49999    1     1       0\n",
                            "\n",
                            "[250000 rows x 6 columns]"
                        ],
                        "text/html": [
                            "<div>\n",
                            "<style scoped>\n",
                            "    .dataframe tbody tr th:only-of-type {\n",
                            "        vertical-align: middle;\n",
                            "    }\n",
                            "\n",
                            "    .dataframe tbody tr th {\n",
                            "        vertical-align: top;\n",
                            "    }\n",
                            "\n",
                            "    .dataframe thead th {\n",
                            "        text-align: right;\n",
                            "    }\n",
                            "</style>\n",
                            "<table border=\"1\" class=\"dataframe\">\n",
                            "  <thead>\n",
                            "    <tr style=\"text-align: right;\">\n",
                            "      <th></th>\n",
                            "      <th>login</th>\n",
                            "      <th>uid</th>\n",
                            "      <th>docid</th>\n",
                            "      <th>jud</th>\n",
                            "      <th>cjud</th>\n",
                            "      <th>errors</th>\n",
                            "    </tr>\n",
                            "  </thead>\n",
                            "  <tbody>\n",
                            "    <tr>\n",
                            "      <th>0</th>\n",
                            "      <td>assessor158</td>\n",
                            "      <td>158</td>\n",
                            "      <td>0</td>\n",
                            "      <td>0</td>\n",
                            "      <td>0</td>\n",
                            "      <td>0</td>\n",
                            "    </tr>\n",
                            "    <tr>\n",
                            "      <th>1</th>\n",
                            "      <td>assessor238</td>\n",
                            "      <td>238</td>\n",
                            "      <td>0</td>\n",
                            "      <td>0</td>\n",
                            "      <td>0</td>\n",
                            "      <td>0</td>\n",
                            "    </tr>\n",
                            "    <tr>\n",
                            "      <th>2</th>\n",
                            "      <td>assessor488</td>\n",
                            "      <td>488</td>\n",
                            "      <td>0</td>\n",
                            "      <td>0</td>\n",
                            "      <td>0</td>\n",
                            "      <td>0</td>\n",
                            "    </tr>\n",
                            "    <tr>\n",
                            "      <th>3</th>\n",
                            "      <td>assessor136</td>\n",
                            "      <td>136</td>\n",
                            "      <td>0</td>\n",
                            "      <td>0</td>\n",
                            "      <td>0</td>\n",
                            "      <td>0</td>\n",
                            "    </tr>\n",
                            "    <tr>\n",
                            "      <th>4</th>\n",
                            "      <td>assessor300</td>\n",
                            "      <td>300</td>\n",
                            "      <td>0</td>\n",
                            "      <td>0</td>\n",
                            "      <td>0</td>\n",
                            "      <td>0</td>\n",
                            "    </tr>\n",
                            "    <tr>\n",
                            "      <th>...</th>\n",
                            "      <td>...</td>\n",
                            "      <td>...</td>\n",
                            "      <td>...</td>\n",
                            "      <td>...</td>\n",
                            "      <td>...</td>\n",
                            "      <td>...</td>\n",
                            "    </tr>\n",
                            "    <tr>\n",
                            "      <th>249995</th>\n",
                            "      <td>assessor208</td>\n",
                            "      <td>208</td>\n",
                            "      <td>49999</td>\n",
                            "      <td>1</td>\n",
                            "      <td>1</td>\n",
                            "      <td>0</td>\n",
                            "    </tr>\n",
                            "    <tr>\n",
                            "      <th>249996</th>\n",
                            "      <td>assessor139</td>\n",
                            "      <td>139</td>\n",
                            "      <td>49999</td>\n",
                            "      <td>1</td>\n",
                            "      <td>1</td>\n",
                            "      <td>0</td>\n",
                            "    </tr>\n",
                            "    <tr>\n",
                            "      <th>249997</th>\n",
                            "      <td>assessor333</td>\n",
                            "      <td>333</td>\n",
                            "      <td>49999</td>\n",
                            "      <td>1</td>\n",
                            "      <td>1</td>\n",
                            "      <td>0</td>\n",
                            "    </tr>\n",
                            "    <tr>\n",
                            "      <th>249998</th>\n",
                            "      <td>assessor160</td>\n",
                            "      <td>160</td>\n",
                            "      <td>49999</td>\n",
                            "      <td>1</td>\n",
                            "      <td>1</td>\n",
                            "      <td>0</td>\n",
                            "    </tr>\n",
                            "    <tr>\n",
                            "      <th>249999</th>\n",
                            "      <td>assessor175</td>\n",
                            "      <td>175</td>\n",
                            "      <td>49999</td>\n",
                            "      <td>1</td>\n",
                            "      <td>1</td>\n",
                            "      <td>0</td>\n",
                            "    </tr>\n",
                            "  </tbody>\n",
                            "</table>\n",
                            "<p>250000 rows × 6 columns</p>\n",
                            "</div>"
                        ]
                    },
                    "metadata": {},
                    "execution_count": 35
                }
            ],
            "metadata": {}
        },
        {
            "cell_type": "markdown",
            "source": [
                "Для аггрегации данных напишем функцию, которая будет осуществлять подсчёт ошибок и количество обработанных документов каждым пользователем,\r\n",
                "а также процент ошибок."
            ],
            "metadata": {}
        },
        {
            "cell_type": "code",
            "execution_count": 36,
            "source": [
                "def summary(x):\r\n",
                "    result = {\r\n",
                "        'errors_sum': x['errors'].sum(),\r\n",
                "        'doc_count': x['docid'].count(),\r\n",
                "        'percent_errors': x['errors'].sum() / x['docid'].count() * 100,\r\n",
                "    }\r\n",
                "    return pd.Series(result).round(0)"
            ],
            "outputs": [],
            "metadata": {}
        },
        {
            "cell_type": "markdown",
            "source": [
                "Сгруппируем и отсортируем полученные данные по убыванию. "
            ],
            "metadata": {}
        },
        {
            "cell_type": "code",
            "execution_count": 37,
            "source": [
                "data.groupby(['uid']).apply(summary).sort_values(by=['percent_errors'], ascending=False)"
            ],
            "outputs": [
                {
                    "output_type": "execute_result",
                    "data": {
                        "text/plain": [
                            "     errors_sum  doc_count  percent_errors\n",
                            "uid                                       \n",
                            "56        236.0      411.0            57.0\n",
                            "3         230.0      426.0            54.0\n",
                            "234        51.0       99.0            52.0\n",
                            "390       214.0      412.0            52.0\n",
                            "118       205.0      391.0            52.0\n",
                            "..          ...        ...             ...\n",
                            "528        32.0      395.0             8.0\n",
                            "450        32.0      399.0             8.0\n",
                            "63         32.0      409.0             8.0\n",
                            "38         33.0      411.0             8.0\n",
                            "296        32.0      420.0             8.0\n",
                            "\n",
                            "[600 rows x 3 columns]"
                        ],
                        "text/html": [
                            "<div>\n",
                            "<style scoped>\n",
                            "    .dataframe tbody tr th:only-of-type {\n",
                            "        vertical-align: middle;\n",
                            "    }\n",
                            "\n",
                            "    .dataframe tbody tr th {\n",
                            "        vertical-align: top;\n",
                            "    }\n",
                            "\n",
                            "    .dataframe thead th {\n",
                            "        text-align: right;\n",
                            "    }\n",
                            "</style>\n",
                            "<table border=\"1\" class=\"dataframe\">\n",
                            "  <thead>\n",
                            "    <tr style=\"text-align: right;\">\n",
                            "      <th></th>\n",
                            "      <th>errors_sum</th>\n",
                            "      <th>doc_count</th>\n",
                            "      <th>percent_errors</th>\n",
                            "    </tr>\n",
                            "    <tr>\n",
                            "      <th>uid</th>\n",
                            "      <th></th>\n",
                            "      <th></th>\n",
                            "      <th></th>\n",
                            "    </tr>\n",
                            "  </thead>\n",
                            "  <tbody>\n",
                            "    <tr>\n",
                            "      <th>56</th>\n",
                            "      <td>236.0</td>\n",
                            "      <td>411.0</td>\n",
                            "      <td>57.0</td>\n",
                            "    </tr>\n",
                            "    <tr>\n",
                            "      <th>3</th>\n",
                            "      <td>230.0</td>\n",
                            "      <td>426.0</td>\n",
                            "      <td>54.0</td>\n",
                            "    </tr>\n",
                            "    <tr>\n",
                            "      <th>234</th>\n",
                            "      <td>51.0</td>\n",
                            "      <td>99.0</td>\n",
                            "      <td>52.0</td>\n",
                            "    </tr>\n",
                            "    <tr>\n",
                            "      <th>390</th>\n",
                            "      <td>214.0</td>\n",
                            "      <td>412.0</td>\n",
                            "      <td>52.0</td>\n",
                            "    </tr>\n",
                            "    <tr>\n",
                            "      <th>118</th>\n",
                            "      <td>205.0</td>\n",
                            "      <td>391.0</td>\n",
                            "      <td>52.0</td>\n",
                            "    </tr>\n",
                            "    <tr>\n",
                            "      <th>...</th>\n",
                            "      <td>...</td>\n",
                            "      <td>...</td>\n",
                            "      <td>...</td>\n",
                            "    </tr>\n",
                            "    <tr>\n",
                            "      <th>528</th>\n",
                            "      <td>32.0</td>\n",
                            "      <td>395.0</td>\n",
                            "      <td>8.0</td>\n",
                            "    </tr>\n",
                            "    <tr>\n",
                            "      <th>450</th>\n",
                            "      <td>32.0</td>\n",
                            "      <td>399.0</td>\n",
                            "      <td>8.0</td>\n",
                            "    </tr>\n",
                            "    <tr>\n",
                            "      <th>63</th>\n",
                            "      <td>32.0</td>\n",
                            "      <td>409.0</td>\n",
                            "      <td>8.0</td>\n",
                            "    </tr>\n",
                            "    <tr>\n",
                            "      <th>38</th>\n",
                            "      <td>33.0</td>\n",
                            "      <td>411.0</td>\n",
                            "      <td>8.0</td>\n",
                            "    </tr>\n",
                            "    <tr>\n",
                            "      <th>296</th>\n",
                            "      <td>32.0</td>\n",
                            "      <td>420.0</td>\n",
                            "      <td>8.0</td>\n",
                            "    </tr>\n",
                            "  </tbody>\n",
                            "</table>\n",
                            "<p>600 rows × 3 columns</p>\n",
                            "</div>"
                        ]
                    },
                    "metadata": {},
                    "execution_count": 37
                }
            ],
            "metadata": {}
        },
        {
            "cell_type": "markdown",
            "source": [
                "Расчёт процента ошибок явлется очень субъективной метрикой. Для более качественной оценки, лучше использовать такие показатели, как Accuracy, Sensitivity, Precision"
            ],
            "metadata": {}
        }
    ],
    "metadata": {
        "orig_nbformat": 4,
        "language_info": {
            "name": "python"
        }
    },
    "nbformat": 4,
    "nbformat_minor": 2
}